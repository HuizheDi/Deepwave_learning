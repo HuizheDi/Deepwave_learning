{
 "cells": [
  {
   "cell_type": "markdown",
   "id": "ba1a222c",
   "metadata": {},
   "source": [
    "### One of the difficulties with FWI is that it is susceptible (adj.易得病的，易受影响的；) to “cycle skipping”. A common remedy (解决方法，纠正方法) is to initially use only the low frequencies in the data, and to gradually increase the maximum frequency that is used. This example is a simple demonstration of this using Deepwave."
   ]
  },
  {
   "cell_type": "markdown",
   "id": "41c3c15e",
   "metadata": {},
   "source": [
    "### We saw in previous examples that it is desirable to constrain the range of velocities in the inverted model. Previous examples showed that this can be done by clipping extreme values in gradients before model updates to avoid making big velocity changes at a small number of points, or by adding a term to the cost function that penalises (惩罚，处罚；使……处于严重不利地位) velocities outside our desired range. This example also demonstrates another means of achieving this."
   ]
  },
  {
   "cell_type": "markdown",
   "id": "b971b339",
   "metadata": {},
   "source": [
    "Because PyTorch enables us to chain operators together, and will automatically backpropagate through them to calculate gradients, we can use a function to generate our velocity model. This provides us with a convenient and robust way to constrain the range of velocities in our model. We can define our velocity model to be an object containing a tensor of the same size as our model. When can call the forward method of this object, it returns the output of applying the sigmoid operation to this stored tensor, resulting in a value between 0 and 1 for each cell, and then scales this to our desired range. We can set the initial output of this to be our chosen initial velocity model using the logit operator, which is the inverse of sigmoid:"
   ]
  },
  {
   "cell_type": "code",
   "execution_count": null,
   "id": "c2594497",
   "metadata": {},
   "outputs": [],
   "source": [
    "class Model(torch.nn.Module):\n",
    "    def __init__(self, initial, min_vel, max_vel):\n",
    "        super().__init__()\n",
    "        self.min_vel = min_vel\n",
    "        self.max_vel = max_vel\n",
    "        self.model = torch.nn.Parameter(torch.logit((initial - min_vel) /\n",
    "                                                    (max_vel - min_vel)))\n",
    "\n",
    "    def forward(self):\n",
    "        return (torch.sigmoid(self.model) * (self.max_vel - self.min_vel) +\n",
    "                self.min_vel)\n",
    "\n",
    "\n",
    "model = Model(v_init, 1000, 2500).to(device)"
   ]
  },
  {
   "cell_type": "markdown",
   "id": "87864a9a",
   "metadata": {},
   "source": [
    "Now, when we create the optimiser, the tensor that we will ask it to optimise is the tensor inside this object. During backpropagation, the gradient of the loss function with respect to the velocity model will be further backpropagated to calculate the gradient with respect to this tensor. We therefore won’t be directly updating the velocity model, but will instead be updating this tensor that is used to generate the velocity model."
   ]
  },
  {
   "cell_type": "markdown",
   "id": "984c59be",
   "metadata": {},
   "source": [
    "We will progress from an initial cutoff frequency in our filter of 10 Hz in the early iterations, to 30 Hz in the final iterations. To keep this example simple we will apply the frequency filter to the output of wave propagation. If you were working with very large models, you would instead probably filter the source amplitudes. \n",
    "**A lower frequency source would allow you to use a larger grid cell spacing, reducing computational cost.**  \n",
    "To apply the frequency filter, we use a chain of second-order sections to implement a 6th order Butterworth filter with the biquad function from torchaudio and butter from scipy:"
   ]
  },
  {
   "cell_type": "code",
   "execution_count": null,
   "id": "84eaedc3",
   "metadata": {},
   "outputs": [],
   "source": [
    "for cutoff_freq in [10, 15, 20, 25, 30]:\n",
    "    sos = butter(6, cutoff_freq, fs=1/dt, output='sos')\n",
    "    sos = [torch.tensor(sosi).to(observed_data.dtype).to(device)\n",
    "           for sosi in sos]\n",
    "\n",
    "    def filt(x):\n",
    "        return biquad(biquad(biquad(x, *sos[0]), *sos[1]), *sos[2])\n",
    "    observed_data_filt = filt(observed_data)\n",
    "    optimiser = torch.optim.LBFGS(model.parameters(),\n",
    "                                  line_search_fn='strong_wolfe')\n",
    "    for epoch in range(n_epochs):\n",
    "        def closure():\n",
    "            optimiser.zero_grad()\n",
    "            v = model()\n",
    "            out = scalar(\n",
    "                v, dx, dt,\n",
    "                source_amplitudes=source_amplitudes,\n",
    "                source_locations=source_locations,\n",
    "                receiver_locations=receiver_locations,\n",
    "                max_vel=2500,\n",
    "                pml_freq=freq,\n",
    "                time_pad_frac=0.2,\n",
    "            )\n",
    "            out_filt = filt(taper(out[-1]))\n",
    "            loss = 1e6*loss_fn(out_filt, observed_data_filt)\n",
    "            loss.backward()\n",
    "            return loss\n",
    "\n",
    "        optimiser.step(closure)"
   ]
  }
 ],
 "metadata": {
  "kernelspec": {
   "display_name": "Python 3 (ipykernel)",
   "language": "python",
   "name": "python3"
  },
  "language_info": {
   "codemirror_mode": {
    "name": "ipython",
    "version": 3
   },
   "file_extension": ".py",
   "mimetype": "text/x-python",
   "name": "python",
   "nbconvert_exporter": "python",
   "pygments_lexer": "ipython3",
   "version": "3.9.13"
  }
 },
 "nbformat": 4,
 "nbformat_minor": 5
}
