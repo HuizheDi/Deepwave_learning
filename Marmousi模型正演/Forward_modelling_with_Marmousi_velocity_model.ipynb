{
 "cells": [
  {
   "cell_type": "markdown",
   "id": "9f759590",
   "metadata": {},
   "source": [
    "### 使用Deepwave进行Waveform Modeling"
   ]
  },
  {
   "cell_type": "markdown",
   "id": "3d5bc7a5",
   "metadata": {},
   "source": [
    "在本例中，我们将加载Marmousi模型，指定震源和接收器位置，然后使用Deepwave执行正向建模，通过模型传播源，生成合成接收器数据。"
   ]
  },
  {
   "cell_type": "markdown",
   "id": "5290ea61",
   "metadata": {},
   "source": [
    "因为我没有搞定Deepwave软件在Windows系统下的编译问题，故注释掉。\n",
    "测试成功的系统：Ubuntu20.04，Centos7和Centos8"
   ]
  },
  {
   "cell_type": "code",
   "execution_count": null,
   "id": "fd553bc6",
   "metadata": {},
   "outputs": [],
   "source": [
    "import torch\n",
    "import matplotlib.pyplot as plt\n",
    "# import deepwave\n",
    "# from deepwave import scalar"
   ]
  },
  {
   "cell_type": "code",
   "execution_count": null,
   "id": "4bccfb41",
   "metadata": {},
   "outputs": [],
   "source": [
    "device = torch.device('cuda' if torch.cuda.is_available() else 'cpu')\n",
    "ny = 2301\n",
    "nx = 751\n",
    "dx = 4.0\n",
    "v = torch.from_file('marmousi_vp.bin',\n",
    "                    size=ny*nx).reshape(ny, nx).to(device)"
   ]
  },
  {
   "cell_type": "markdown",
   "id": "89f97d5c",
   "metadata": {},
   "source": [
    "下面，我们将指定震源和接收器的位置，和使用的地震子波\n",
    "\n",
    "Deepwave可以同时模拟所有的震源。\n",
    "\n",
    "这纯粹是为了提高计算性能——它们之间不相互作用，结果应该是相同的，如果震源是单独传播的。\n",
    "\n",
    "同时传播的炮假设有相同数量的震源和接收器，因此我们可以在张量中分别提供它们的位置 [shot, source, space], 和 [shot, receiver, space], 并且在张量中提供源振幅 [shot, source, time]. \n",
    "\n",
    "许多应用程序每个炮只有一个源，因此源的尺寸将是单位长度, 但是Deepwave提供了更多的选项:"
   ]
  },
  {
   "cell_type": "code",
   "execution_count": null,
   "id": "66d92610",
   "metadata": {},
   "outputs": [],
   "source": [
    "n_shots = 115\n",
    "\n",
    "n_sources_per_shot = 1\n",
    "d_source = 20  # 20 * 4m = 80m\n",
    "first_source = 10  # 10 * 4m = 40m\n",
    "source_depth = 2  # 2 * 4m = 8m\n",
    "\n",
    "n_receivers_per_shot = 384\n",
    "d_receiver = 6  # 6 * 4m = 24m\n",
    "first_receiver = 0  # 0 * 4m = 0m\n",
    "receiver_depth = 2  # 2 * 4m = 8m\n",
    "\n",
    "freq = 25\n",
    "nt = 750\n",
    "dt = 0.004\n",
    "peak_time = 1.5 / freq"
   ]
  },
  {
   "cell_type": "code",
   "execution_count": null,
   "id": "1ff69680",
   "metadata": {},
   "outputs": [],
   "source": [
    "# 震源位置\n",
    "source_locations = torch.zeros(n_shots, n_sources_per_shot, 2,\n",
    "                               dtype=torch.long, device=device)\n",
    "source_locations[..., 1] = source_depth\n",
    "source_locations[:, 0, 0] = torch.arange(n_shots) * d_source + first_source"
   ]
  },
  {
   "cell_type": "code",
   "execution_count": null,
   "id": "c1327b5f",
   "metadata": {},
   "outputs": [],
   "source": [
    "source_locations"
   ]
  },
  {
   "cell_type": "code",
   "execution_count": null,
   "id": "ec1fad41",
   "metadata": {},
   "outputs": [],
   "source": [
    "# 接收器位置\n",
    "receiver_locations = torch.zeros(n_shots, n_receivers_per_shot, 2,\n",
    "                                 dtype=torch.long, device=device)\n",
    "receiver_locations[..., 1] = receiver_depth\n",
    "receiver_locations[:, :, 0] = (\n",
    "    (torch.arange(n_receivers_per_shot) * d_receiver + first_receiver)\n",
    "    .repeat(n_shots, 1)\n",
    ")"
   ]
  },
  {
   "cell_type": "code",
   "execution_count": null,
   "id": "392f8e2a",
   "metadata": {},
   "outputs": [],
   "source": [
    "receiver_locations"
   ]
  },
  {
   "cell_type": "code",
   "execution_count": null,
   "id": "443a67a6",
   "metadata": {},
   "outputs": [],
   "source": [
    "# 震源的振幅\n",
    "source_amplitudes = (\n",
    "    deepwave.wavelets.ricker(freq, nt, dt, peak_time)\n",
    "    .repeat(n_shots, n_sources_per_shot, 1)\n",
    "    .to(device)\n",
    ")"
   ]
  },
  {
   "cell_type": "code",
   "execution_count": null,
   "id": "5ccaea81",
   "metadata": {},
   "outputs": [],
   "source": [
    "# 正演模拟\n",
    "out = scalar(v, dx, dt, source_amplitudes=source_amplitudes,\n",
    "             source_locations=source_locations,\n",
    "             receiver_locations=receiver_locations,\n",
    "             accuracy=8,\n",
    "             pml_freq=freq)"
   ]
  },
  {
   "cell_type": "code",
   "execution_count": null,
   "id": "ccd1820f",
   "metadata": {},
   "outputs": [],
   "source": [
    "# 画图\n",
    "receiver_amplitudes = out[-1]\n",
    "vmin, vmax = torch.quantile(receiver_amplitudes[0],\n",
    "                            torch.tensor([0.05, 0.95]).to(device))\n",
    "_, ax = plt.subplots(1, 2, figsize=(10.5, 7), sharey=True)\n",
    "ax[0].imshow(receiver_amplitudes[57].cpu().T, aspect='auto', cmap='gray',\n",
    "             vmin=vmin, vmax=vmax)\n",
    "ax[1].imshow(receiver_amplitudes[:, 192].cpu().T, aspect='auto', cmap='gray',\n",
    "             vmin=vmin, vmax=vmax)\n",
    "ax[0].set_xlabel(\"Channel\")\n",
    "ax[0].set_ylabel(\"Time Sample\")\n",
    "ax[1].set_xlabel(\"Shot\")\n",
    "plt.tight_layout()\n",
    "plt.savefig('example_forward_model.jpg')"
   ]
  },
  {
   "cell_type": "code",
   "execution_count": null,
   "id": "1c6e1a20",
   "metadata": {},
   "outputs": [],
   "source": [
    "# 保存\n",
    "receiver_amplitudes.cpu().numpy().tofile('marmousi_data.bin')"
   ]
  }
 ],
 "metadata": {
  "kernelspec": {
   "display_name": "Python 3 (ipykernel)",
   "language": "python",
   "name": "python3"
  },
  "language_info": {
   "codemirror_mode": {
    "name": "ipython",
    "version": 3
   },
   "file_extension": ".py",
   "mimetype": "text/x-python",
   "name": "python",
   "nbconvert_exporter": "python",
   "pygments_lexer": "ipython3",
   "version": "3.10.4"
  }
 },
 "nbformat": 4,
 "nbformat_minor": 5
}
